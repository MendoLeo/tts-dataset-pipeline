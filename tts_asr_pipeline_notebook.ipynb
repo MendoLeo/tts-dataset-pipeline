{
  "cells": [
    {
      "cell_type": "markdown",
      "metadata": {},
      "source": [
        "# 🧐 TTS & ASR Dataset Pipeline\n",
        "\n",
        "An open-source pipeline designed to simplify the creation of datasets for Text-to-Speech (TTS) and Automatic Speech Recognition (ASR), supporting both specific (biblical) and generic (any corpus/language) use cases."
      ]
    },
    {
      "cell_type": "markdown",
      "metadata": {},
      "source": [
        "## 🎯 Motivation & Inspirations\n",
        "\n",
        "This project was born out of a desire to expand access to speech technologies for all languages, especially **low-resource languages**. Inspired by Meta AI’s **Massively Multilingual Speech (MMS)** project, this open-source pipeline aims to make TTS/ASR dataset creation easier by providing a full set of tools for:\n",
        "\n",
        "- preprocessing text and audio data,\n",
        "- automatic alignment,\n",
        "- data filtering and formatting."
      ]
    },
    {
      "cell_type": "markdown",
      "metadata": {},
      "source": [
        "## 🧠 Pipeline Architecture\n",
        "\n",
        "```\n",
        "Raw Data (audio/text)\n",
        "      │\n",
        "      ▼\n",
        "Preprocessing (conversion + cleaning)\n",
        "      │\n",
        "      ▼\n",
        "Text-audio alignment\n",
        "      │\n",
        "      ▼\n",
        "Alignment filtering\n",
        "      │\n",
        "      ▼\n",
        "Final formatting (CSV, JSON, etc.)\n",
        "```"
      ]
    },
    {
      "cell_type": "markdown",
      "metadata": {},
      "source": [
        "## 📚 Use Cases\n",
        "\n",
        "This pipeline supports **two main scenarios**:\n",
        "\n",
        "- 📖 **Biblical case**: Texts from scriptures or other books, often structured using book,chapter,verse segmentation.\n",
        "- 🌍 **Generic case**: Any data with transcription and audio (podcasts, stories, interviews, etc.)."
      ]
    },
    {
      "cell_type": "markdown",
      "metadata": {},
      "source": [
        "## ⚙️ Installation"
      ]
    },
    {
      "cell_type": "code",
      "execution_count": null,
      "metadata": {},
      "outputs": [],
      "source": [
        "!git clone https://github.com/MendoLeo/tts-dataset-pipeline.git"
      ]
    },
    {
      "cell_type": "code",
      "execution_count": null,
      "id": "f06b5a15",
      "metadata": {},
      "outputs": [],
      "source": [
        "%cd tts-dataset-pipeline\n",
        "!pip install -r requirements.txt"
      ]
    },
    {
      "cell_type": "markdown",
      "metadata": {},
      "source": [
        "### 📌 C++ Alignment Dependency (Generic case only)"
      ]
    },
    {
      "cell_type": "code",
      "execution_count": null,
      "id": "126118fd",
      "metadata": {},
      "outputs": [],
      "source": [
        "%cd forced-alignhf-model"
      ]
    },
    {
      "cell_type": "code",
      "execution_count": null,
      "metadata": {},
      "outputs": [],
      "source": [
        "!pip install pybind11\n",
        "!python setup.py build_ext --inplace"
      ]
    },
    {
      "cell_type": "code",
      "execution_count": null,
      "id": "66e168a5",
      "metadata": {},
      "outputs": [],
      "source": [
        "%cd .."
      ]
    },
    {
      "cell_type": "markdown",
      "metadata": {},
      "source": [
        "## 🧾 Data Preparation\n",
        "\n",
        "### 📖 Biblical Data\n",
        "\n",
        "The required format is a JSON file with book/chapter/verse structure:"
      ]
    },
    {
      "cell_type": "markdown",
      "id": "d756dfd0",
      "metadata": {},
      "source": [
        "[\n",
        "    {\n",
        "        \"numVerset\": \"MAT.1.1\",\n",
        "        \"verset\": \"Kalate éndane Yésus Krist, e mona David, e mon Abraham.\"\n",
        "    },\n",
        "    {\n",
        "        \"numVerset\": \"MAT.1.2\",\n",
        "        \"verset\": \"Abraham a nga biaé Izak, Izak a nga biaé Yakob, Yakob a nga biaé Yuda baa be bobenyañ.\"\n",
        "    }\n",
        "]"
      ]
    },
    {
      "cell_type": "markdown",
      "metadata": {},
      "source": [
        "Structure:"
      ]
    },
    {
      "cell_type": "markdown",
      "id": "0e55063c",
      "metadata": {},
      "source": [
        "audio_dir/\n",
        "├── MAT\n",
        "│   ├── MAT_001.wav\n",
        "├── 1CO\n",
        "...\n",
        "transcripts/\n",
        "├── MAT.json\n",
        "├── PSA.json\n",
        "..."
      ]
    },
    {
      "cell_type": "markdown",
      "metadata": {},
      "source": [
        "### 🌍 Generic Data\n",
        "\n",
        "Text/audio file pairs. Structure:"
      ]
    },
    {
      "cell_type": "markdown",
      "id": "bb3f80bd",
      "metadata": {},
      "source": [
        "text_dir/\n",
        "├── AV1.txt\n",
        "├── AV2.txt\n",
        "audio_dir/\n",
        "├── AV1.wav\n",
        "├── AV2.wav"
      ]
    },
    {
      "cell_type": "markdown",
      "id": "525c45ad",
      "metadata": {},
      "source": [
        "## Mount you drive\n"
      ]
    },
    {
      "cell_type": "code",
      "execution_count": null,
      "id": "8440141b",
      "metadata": {},
      "outputs": [],
      "source": [
        "from google.colab import drive\n",
        "drive.mount('/content/drive')"
      ]
    },
    {
      "cell_type": "markdown",
      "metadata": {},
      "source": [
        "## ⚙️ Common Preprocessing Steps\n",
        "\n",
        "### 🔄 Audio Conversion"
      ]
    },
    {
      "cell_type": "code",
      "execution_count": null,
      "id": "a0d04156",
      "metadata": {},
      "outputs": [],
      "source": [
        "%cd data_prep"
      ]
    },
    {
      "cell_type": "code",
      "execution_count": null,
      "metadata": {},
      "outputs": [],
      "source": [
        "!python convert_audio.py --audio_dir ./audio_files --sample 16000 --output_dir wav_output"
      ]
    },
    {
      "cell_type": "markdown",
      "metadata": {},
      "source": [
        "### 🔇 Audio Denoising"
      ]
    },
    {
      "cell_type": "code",
      "execution_count": null,
      "metadata": {},
      "outputs": [],
      "source": [
        "!python denoising.py --src_path /noised/audios --output_dir /denoised/audios"
      ]
    },
    {
      "cell_type": "markdown",
      "metadata": {},
      "source": [
        "## 📖 Biblical Case\n",
        "\n",
        "### 📌 Alignment"
      ]
    },
    {
      "cell_type": "code",
      "execution_count": null,
      "metadata": {},
      "outputs": [],
      "source": [
        "# align single book\n",
        "!python run_segmentation.py --json_path /transcripts/json-file/PSA.json --audio_dir /audio_dir/PSA --output_dir /outputs/PSA --language 'bum' --chunk_size_s 15"
      ]
    },
    {
      "cell_type": "code",
      "execution_count": null,
      "id": "3de82ac6",
      "metadata": {},
      "outputs": [],
      "source": [
        "# Align most book\n",
        "%cd scripts-bash\n",
        "!segmentation.sh -j /to/json_files -a /to/audio_files -o /path/to/output_dir -b \"GEN EXO PSA\" -c 15"
      ]
    },
    {
      "cell_type": "markdown",
      "metadata": {},
      "source": [
        "### 🧹 Filtering"
      ]
    },
    {
      "cell_type": "code",
      "execution_count": null,
      "metadata": {},
      "outputs": [],
      "source": [
        "# Filtering single book\n",
        "!python run_filter.py --audio_dir /aligned/GEN/ --output_dir /output/filtered --language 'bum' --chunk_size_s 15 --probability_difference_threshold -0.2"
      ]
    },
    {
      "cell_type": "code",
      "execution_count": null,
      "id": "88329406",
      "metadata": {},
      "outputs": [],
      "source": [
        "# Filtering mutiple book\n",
        "%cd scripts-bash\n",
        "!run_filter.sh -a /path/to/audio_files -o /path/to/output_dir -b \"GEN EXO PSA\" -t -0.2\n"
      ]
    },
    {
      "cell_type": "markdown",
      "metadata": {},
      "source": [
        "## 🌍 Generic Case\n",
        "\n",
        "### 🔧 Alignment Setup and 🔁 Alignment"
      ]
    },
    {
      "cell_type": "code",
      "execution_count": null,
      "id": "1b170426",
      "metadata": {},
      "outputs": [],
      "source": [
        "%cd /content/tts-dataset-pipeline/forced-alignhf-model"
      ]
    },
    {
      "cell_type": "code",
      "execution_count": null,
      "metadata": {},
      "outputs": [],
      "source": [
        "!python align_batch.py --audio_dir \"/content/tts-dataset-pipeline/data/audios\" --text_dir \"/content/tts-dataset-pipeline/data/transcripts\" --output_dir \"/content/sample_data/pipeline-align\" --language \"bum\" --romanize --segment_audio --generate_txt --split_size \"sentence\""
      ]
    },
    {
      "cell_type": "markdown",
      "metadata": {},
      "source": [
        "### 🧹 Generic Filtering"
      ]
    },
    {
      "cell_type": "code",
      "execution_count": null,
      "metadata": {},
      "outputs": [],
      "source": [
        "!python generic_filter.py --audio_dir /path/to/align/data --output_dir /path/to/cleaned/alignment --language \"bum\" --probability_difference_threshold -0.25"
      ]
    },
    {
      "cell_type": "code",
      "execution_count": null,
      "id": "bb38562b",
      "metadata": {},
      "outputs": [],
      "source": []
    }
  ],
  "metadata": {
    "kernelspec": {
      "display_name": "Python 3",
      "language": "python",
      "name": "python3"
    },
    "language_info": {
      "codemirror_mode": {
        "name": "ipython",
        "version": 3
      },
      "file_extension": ".py",
      "mimetype": "text/x-python",
      "name": "python",
      "nbconvert_exporter": "python",
      "pygments_lexer": "ipython3",
      "version": "3.10.12"
    }
  },
  "nbformat": 4,
  "nbformat_minor": 5
}
